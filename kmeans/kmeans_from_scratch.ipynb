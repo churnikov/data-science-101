{
 "cells": [
  {
   "cell_type": "markdown",
   "metadata": {},
   "source": [
    "# KMeans"
   ]
  },
  {
   "cell_type": "markdown",
   "metadata": {},
   "source": [
    "[Reference](https://towardsdatascience.com/understanding-k-means-clustering-in-machine-learning-6a6e67336aa1)"
   ]
  },
  {
   "cell_type": "code",
   "execution_count": 2,
   "metadata": {},
   "outputs": [],
   "source": [
    "import pandas as pd\n",
    "import numpy as np\n",
    "import matplotlib.pyplot as plt\n",
    "from sklearn.datasets import make_classification\n",
    "%matplotlib inline"
   ]
  },
  {
   "cell_type": "code",
   "execution_count": 4,
   "metadata": {},
   "outputs": [],
   "source": [
    "X, y = make_classification(n_features=2, n_redundant=0)"
   ]
  },
  {
   "cell_type": "code",
   "execution_count": 7,
   "metadata": {},
   "outputs": [
    {
     "data": {
      "text/plain": [
       "array([[-1.34743079, -0.66417484],\n",
       "       [-0.87067361, -0.65279989],\n",
       "       [ 0.95540855, -2.08808226],\n",
       "       [-0.21304777, -1.96139959],\n",
       "       [ 0.14161723, -1.41018434],\n",
       "       [-1.53802367, -1.06255495],\n",
       "       [ 0.98743051, -0.88673645],\n",
       "       [ 0.76810739, -0.51411221],\n",
       "       [-2.52192347,  1.1804632 ],\n",
       "       [ 1.42839703,  0.6143222 ],\n",
       "       [ 1.10327345, -2.08218902],\n",
       "       [ 0.03637601, -0.86696466],\n",
       "       [-0.7714823 ,  1.93493822],\n",
       "       [ 1.15501925, -3.81518784],\n",
       "       [ 0.68537015,  1.24478099],\n",
       "       [ 0.29957402, -1.13999552],\n",
       "       [ 0.87468396, -1.46493007],\n",
       "       [ 1.06773211, -2.35677908],\n",
       "       [ 0.42589988,  1.33432184],\n",
       "       [-1.36777487, -1.10429361],\n",
       "       [ 1.01675127, -1.54933515],\n",
       "       [ 0.41906467, -0.78137592],\n",
       "       [-0.54722657, -0.87851193],\n",
       "       [ 1.39458458,  0.56066541],\n",
       "       [-0.22406002, -0.3918976 ],\n",
       "       [ 0.50211756,  0.62031629],\n",
       "       [-0.29430858,  1.31379275],\n",
       "       [ 2.17984889, -1.58478865],\n",
       "       [ 0.75316525, -0.32574219],\n",
       "       [ 1.23286262,  2.00974747],\n",
       "       [-1.07995338, -0.85903206],\n",
       "       [-0.38568261, -0.15421588],\n",
       "       [ 1.22373678, -0.80493152],\n",
       "       [-0.51145657, -1.01123535],\n",
       "       [-0.14849647,  1.90271543],\n",
       "       [ 1.05537225, -1.01504321],\n",
       "       [ 2.16453019, -1.71606341],\n",
       "       [-1.34044409,  0.73998241],\n",
       "       [ 0.99098336,  0.68585015],\n",
       "       [-1.05385048,  1.06111892],\n",
       "       [ 2.1123587 , -2.91696899],\n",
       "       [ 1.24343392, -2.26202802],\n",
       "       [ 0.20915066,  0.70749268],\n",
       "       [ 1.25421331,  1.17999497],\n",
       "       [ 1.35502401, -3.57867158],\n",
       "       [-1.74569466,  0.91473182],\n",
       "       [ 1.17139792,  0.54679081],\n",
       "       [ 1.49864678, -2.90104217],\n",
       "       [ 1.57490976,  0.62228012],\n",
       "       [-0.5551153 , -0.69529972],\n",
       "       [-1.5585119 , -1.52783872],\n",
       "       [ 0.80440118,  0.96702279],\n",
       "       [-1.52382009, -1.5872953 ],\n",
       "       [-0.70422138, -1.23239939],\n",
       "       [ 1.04193761,  0.99664455],\n",
       "       [-0.55035126, -0.92213829],\n",
       "       [ 1.43924804,  0.49133495],\n",
       "       [ 1.34800438,  0.13278398],\n",
       "       [-0.80423972, -1.52607335],\n",
       "       [ 1.77342045, -1.6706044 ],\n",
       "       [-0.15778116,  0.01562466],\n",
       "       [-0.01111038,  1.19315403],\n",
       "       [ 1.17232561, -2.53049776],\n",
       "       [ 1.40751272, -0.58863078],\n",
       "       [-1.15328346,  0.70389617],\n",
       "       [-0.56509388, -0.65669031],\n",
       "       [-1.60836149, -1.53686486],\n",
       "       [ 1.99806899,  0.51929306],\n",
       "       [ 1.20902187, -1.43496294],\n",
       "       [ 0.93510907, -0.03108116],\n",
       "       [-1.64267842,  1.62822172],\n",
       "       [ 1.06630808,  2.25042584],\n",
       "       [ 0.52154077,  1.52483507],\n",
       "       [-0.77411663,  0.83551713],\n",
       "       [ 0.57351723,  1.09984503],\n",
       "       [-0.29337587, -0.18197455],\n",
       "       [-0.0176569 , -0.53067227],\n",
       "       [-0.30380936, -0.68451504],\n",
       "       [ 1.70047041,  0.15392216],\n",
       "       [ 0.73800444,  2.29953396],\n",
       "       [ 1.36718684,  0.38129775],\n",
       "       [ 1.01970194,  1.16560194],\n",
       "       [ 0.94130094, -1.76419847],\n",
       "       [ 0.05106267, -0.4439244 ],\n",
       "       [ 1.06257091,  0.56615254],\n",
       "       [ 1.48727095,  0.97293556],\n",
       "       [ 0.81868485,  1.03956205],\n",
       "       [-0.9770195 ,  2.80039922],\n",
       "       [-1.8488623 , -0.98877098],\n",
       "       [-1.42623625,  0.53974446],\n",
       "       [ 1.11003613, -3.18564059],\n",
       "       [ 0.96457948,  0.16366792],\n",
       "       [ 1.62026677,  0.66568065],\n",
       "       [-1.62760724,  0.49006309],\n",
       "       [-2.17959724,  2.87258797],\n",
       "       [-1.85385762, -0.95233487],\n",
       "       [ 1.23671196,  0.23072639],\n",
       "       [-0.64120707,  1.96241526],\n",
       "       [-1.76807823, -1.77161345],\n",
       "       [ 1.81008346, -1.86106924]])"
      ]
     },
     "execution_count": 7,
     "metadata": {},
     "output_type": "execute_result"
    }
   ],
   "source": [
    "X"
   ]
  },
  {
   "cell_type": "code",
   "execution_count": 8,
   "metadata": {},
   "outputs": [
    {
     "data": {
      "text/plain": [
       "array([0, 0, 1, 1, 0, 0, 0, 1, 0, 1, 1, 0, 0, 1, 0, 1, 1, 1, 1, 0, 1, 0,\n",
       "       0, 0, 0, 1, 1, 1, 0, 0, 0, 0, 1, 0, 1, 1, 1, 0, 1, 0, 1, 1, 0, 1,\n",
       "       1, 0, 1, 1, 1, 0, 0, 1, 0, 0, 1, 0, 1, 1, 0, 1, 0, 0, 1, 1, 0, 0,\n",
       "       0, 1, 1, 1, 0, 1, 1, 0, 1, 1, 0, 0, 1, 0, 1, 1, 1, 0, 1, 1, 1, 0,\n",
       "       0, 0, 1, 0, 1, 0, 0, 0, 1, 0, 0, 1])"
      ]
     },
     "execution_count": 8,
     "metadata": {},
     "output_type": "execute_result"
    }
   ],
   "source": [
    "y"
   ]
  },
  {
   "cell_type": "code",
   "execution_count": 11,
   "metadata": {},
   "outputs": [
    {
     "data": {
      "text/plain": [
       "<matplotlib.collections.PathCollection at 0x1170494a8>"
      ]
     },
     "execution_count": 11,
     "metadata": {},
     "output_type": "execute_result"
    },
    {
     "data": {
      "image/png": "[encoded data removed]",
      "text/plain": [
       "<Figure size 432x288 with 1 Axes>"
      ]
     },
     "metadata": {},
     "output_type": "display_data"
    }
   ],
   "source": [
    "plt.scatter(X[y == 0][:, 0], X[y == 0][:, 1])\n",
    "plt.scatter(X[y == 1][:, 0], X[y == 1][:, 1])"
   ]
  },
  {
   "cell_type": "code",
   "execution_count": 12,
   "metadata": {},
   "outputs": [],
   "source": [
    "clust = KMeans(n_clusters=2)"
   ]
  },
  {
   "cell_type": "code",
   "execution_count": 13,
   "metadata": {},
   "outputs": [],
   "source": [
    "pred = clust.fit_predict(X)"
   ]
  },
  {
   "cell_type": "code",
   "execution_count": 14,
   "metadata": {},
   "outputs": [
    {
     "data": {
      "text/plain": [
       "array([1, 1, 1, 1, 1, 1, 1, 1, 0, 0, 1, 1, 0, 1, 0, 1, 1, 1, 0, 1, 1, 1,\n",
       "       1, 0, 1, 0, 0, 1, 1, 0, 1, 0, 1, 1, 0, 1, 1, 0, 0, 0, 1, 1, 0, 0,\n",
       "       1, 0, 0, 1, 0, 1, 1, 0, 1, 1, 0, 1, 0, 0, 1, 1, 0, 0, 1, 1, 0, 1,\n",
       "       1, 0, 1, 0, 0, 0, 0, 0, 0, 0, 1, 1, 0, 0, 0, 0, 1, 1, 0, 0, 0, 0,\n",
       "       1, 0, 1, 0, 0, 0, 0, 1, 0, 0, 1, 1], dtype=int32)"
      ]
     },
     "execution_count": 14,
     "metadata": {},
     "output_type": "execute_result"
    }
   ],
   "source": [
    "pred"
   ]
  },
  {
   "cell_type": "code",
   "execution_count": 15,
   "metadata": {},
   "outputs": [
    {
     "data": {
      "text/plain": [
       "<matplotlib.collections.PathCollection at 0x11715b898>"
      ]
     },
     "execution_count": 15,
     "metadata": {},
     "output_type": "execute_result"
    },
    {
     "data": {
      "image/png": "[encoded data removed]",
      "text/plain": [
       "<Figure size 432x288 with 1 Axes>"
      ]
     },
     "metadata": {},
     "output_type": "display_data"
    }
   ],
   "source": [
    "plt.scatter(X[y == 0][:, 0], X[y == 0][:, 1], alpha=0.5)\n",
    "plt.scatter(X[pred == 0][:, 0], X[pred == 0][:, 1], alpha=0.5)"
   ]
  },
  {
   "cell_type": "code",
   "execution_count": 16,
   "metadata": {},
   "outputs": [
    {
     "data": {
      "text/plain": [
       "<matplotlib.collections.PathCollection at 0x1171aab00>"
      ]
     },
     "execution_count": 16,
     "metadata": {},
     "output_type": "execute_result"
    },
    {
     "data": {
      "image/png": "[encoded data removed]",
      "text/plain": [
       "<Figure size 432x288 with 1 Axes>"
      ]
     },
     "metadata": {},
     "output_type": "display_data"
    }
   ],
   "source": [
    "plt.scatter(X[y == 1][:, 0], X[y == 1][:, 1], alpha=0.5)\n",
    "plt.scatter(X[pred == 1][:, 0], X[pred == 1][:, 1], alpha=0.5)"
   ]
  }
 ],
 "metadata": {
  "kernelspec": {
   "display_name": "Python 3",
   "language": "python",
   "name": "python3"
  },
  "language_info": {
   "codemirror_mode": {
    "name": "ipython",
    "version": 3
   },
   "file_extension": ".py",
   "mimetype": "text/x-python",
   "name": "python",
   "nbconvert_exporter": "python",
   "pygments_lexer": "ipython3",
   "version": "3.7.2"
  }
 },
 "nbformat": 4,
 "nbformat_minor": 2
}
