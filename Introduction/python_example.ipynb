{
 "cells": [
  {
   "cell_type": "markdown",
   "metadata": {},
   "source": [
    "# Jupyter notebook\n",
    "\n",
    "То, куда ты смотришь -- это jupyter notebook. У jupyter notebook есть несколько видов ячеек: \n",
    "- Ячейки, в которых можно использовать html и [markdown](https://github.com/adam-p/markdown-here/wiki/Markdown-Cheatsheet);\n",
    "- Ячейки, в которых можно писать код и выполнять его;\n",
    "- Ячейки в plain text (Иногда полезно)\n",
    "\n",
    "Чтобы выполнить ячейку, надо кликнуть по ней и нажать `shift + enter` или `ctrl + enter` или посмотреть наверх и нажать ![run](images/run_button.png)"
   ]
  },
  {
   "cell_type": "markdown",
   "metadata": {},
   "source": [
    "## Markdown+latex in Jupyter notebook\n",
    "\n",
    "Начнем с первого типа ячеек, в которых можно писать `KPACUBO`."
   ]
  },
  {
   "cell_type": "markdown",
   "metadata": {},
   "source": [
    "Чтобы сделать ячейчку-markdown: надо опять кликнуть по ней и нажать `m` или опять посмотреть наверх и выбрать markdown\n",
    "![markdown](images/markdown_howto.png)"
   ]
  },
  {
   "cell_type": "markdown",
   "metadata": {},
   "source": [
    "После этого, можно просто открыть [шпаргалку по markdown](https://github.com/adam-p/markdown-here/wiki/Markdown-Cheatsheet) и писать все красивенько"
   ]
  },
  {
   "cell_type": "markdown",
   "metadata": {},
   "source": [
    "### Формулы\n",
    "\n",
    "Чтобы написать формулу в jupyter notebook надо обернуть выражение на `latex` в `$`\n",
    "\n",
    "Тогда выражение вида `$\\underset{x \\rightarrow 0}{lim} \\frac{sin x}{x} = 1$` будет выглядеть следующим образом: $\\underset{x \\rightarrow 0}{lim} \\frac{sin x}{x} = 1$\n",
    "\n",
    "Если есть желание сделать формулу по-центру, то достаточно обернуть ее в двойные знаки доллара:\n",
    "`$$\\underset{x \\rightarrow 0}{lim} \\frac{sin x}{x} = 1$$`\n",
    "\n",
    "$$\\underset{x \\rightarrow 0}{lim} \\frac{sin x}{x} = 1$$"
   ]
  },
  {
   "cell_type": "markdown",
   "metadata": {},
   "source": [
    "## Пихтон"
   ]
  },
  {
   "cell_type": "code",
   "execution_count": 3,
   "metadata": {},
   "outputs": [],
   "source": [
    "# Это переменная на python\n",
    "a = 3"
   ]
  },
  {
   "cell_type": "code",
   "execution_count": 4,
   "metadata": {},
   "outputs": [
    {
     "name": "stdout",
     "output_type": "stream",
     "text": [
      "3\n"
     ]
    }
   ],
   "source": [
    "# Вывод\n",
    "print(a)"
   ]
  },
  {
   "cell_type": "markdown",
   "metadata": {},
   "source": [
    "В jupyter notebook просто вывести подсказки об интересущем\n",
    "\n",
    "Надо просто набрать `function_or_method?`, т.е. добавить вопросительный знак в конце инересующего нечто."
   ]
  },
  {
   "cell_type": "code",
   "execution_count": 5,
   "metadata": {},
   "outputs": [],
   "source": [
    "print?"
   ]
  },
  {
   "cell_type": "markdown",
   "metadata": {},
   "source": [
    "Одна из многих фичей ноутбуков -- это то, что код можно выполнять непоследовательно, например:"
   ]
  },
  {
   "cell_type": "code",
   "execution_count": 8,
   "metadata": {},
   "outputs": [
    {
     "data": {
      "text/plain": [
       "15"
      ]
     },
     "execution_count": 8,
     "metadata": {},
     "output_type": "execute_result"
    }
   ],
   "source": [
    "# три\n",
    "a + b"
   ]
  },
  {
   "cell_type": "code",
   "execution_count": 6,
   "metadata": {},
   "outputs": [],
   "source": [
    "# раз\n",
    "a = 5"
   ]
  },
  {
   "cell_type": "code",
   "execution_count": 7,
   "metadata": {},
   "outputs": [],
   "source": [
    "# два\n",
    "b = 10"
   ]
  },
  {
   "cell_type": "markdown",
   "metadata": {},
   "source": [
    "Как видно, ячейки выполнены в странном порядке. Дело в том, что jupyter хранит практически всё.\n",
    "\n",
    "Можно создать переменную `c` и удалить ячейку с ней, но переменная не пропадет."
   ]
  },
  {
   "cell_type": "code",
   "execution_count": 11,
   "metadata": {},
   "outputs": [
    {
     "data": {
      "text/plain": [
       "50"
      ]
     },
     "execution_count": 11,
     "metadata": {},
     "output_type": "execute_result"
    }
   ],
   "source": [
    "# Ячейка с переменной c удалена, так что ошибка при запуске -- это норма с:\n",
    "c"
   ]
  }
 ],
 "metadata": {
  "kernelspec": {
   "display_name": "Python 3",
   "language": "python",
   "name": "python3"
  },
  "language_info": {
   "codemirror_mode": {
    "name": "ipython",
    "version": 3
   },
   "file_extension": ".py",
   "mimetype": "text/x-python",
   "name": "python",
   "nbconvert_exporter": "python",
   "pygments_lexer": "ipython3",
   "version": "3.7.0"
  }
 },
 "nbformat": 4,
 "nbformat_minor": 2
}
