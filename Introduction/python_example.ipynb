{
 "cells": [
  {
   "cell_type": "markdown",
   "metadata": {},
   "source": [
    "Видосы, которые которые гораздо подробнее этого ноутбука\n",
    "- [Что такое Python и почему мы выбрали именно его](https://www.coursera.org/learn/mathematics-and-python/lecture/VXRfy/chto-takoie-python-i-pochiemu-my-vybrali-imienno-iegho)\n",
    "- [Что такое ноутбуки и как ими пользоваться](https://www.coursera.org/learn/mathematics-and-python/lecture/Q9ZCs/chto-takoie-noutbuki-i-kak-imi-pol-zovat-sia)\n",
    "- [Типы данных](https://www.coursera.org/learn/mathematics-and-python/lecture/yCNAx/tipy-dannykh)\n",
    "- [Циклы, функции, генераторы, list comprehension](https://www.coursera.org/learn/mathematics-and-python/lecture/Kd7dL/tsikly-funktsii-ghienieratory-list-comprehension)\n",
    "- [Чтение данных из файлов](https://www.coursera.org/learn/mathematics-and-python/lecture/8Xvwp/chtieniie-dannykh-iz-failov)\n",
    "- [Запись файлов, изменение файлов](https://www.coursera.org/learn/mathematics-and-python/lecture/vde7k/zapis-failov-izmienieniie-failov)\n",
    "\n",
    "Чтиво на досуге\n",
    "\n",
    "- [Работа с ячейками markdown](https://jupyter-notebook.readthedocs.io/en/stable/examples/Notebook/Working%20With%20Markdown%20Cells.html)"
   ]
  },
  {
   "cell_type": "markdown",
   "metadata": {},
   "source": [
    "# Jupyter notebook\n",
    "\n",
    "То, куда ты смотришь -- это jupyter notebook. У jupyter notebook есть несколько видов ячеек: \n",
    "- Ячейки, в которых можно использовать html и [markdown](https://github.com/adam-p/markdown-here/wiki/Markdown-Cheatsheet);\n",
    "- Ячейки, в которых можно писать код и выполнять его;\n",
    "- Ячейки в plain text (Иногда полезно)\n",
    "\n",
    "Чтобы выполнить ячейку, надо кликнуть по ней и нажать `shift + enter` или `ctrl + enter` или посмотреть наверх и нажать ![run](images/run_button.png)"
   ]
  },
  {
   "cell_type": "markdown",
   "metadata": {},
   "source": [
    "## Markdown+latex in Jupyter notebook\n",
    "\n",
    "Начнем с первого типа ячеек, в которых можно писать `KPACUBO`."
   ]
  },
  {
   "cell_type": "markdown",
   "metadata": {},
   "source": [
    "Чтобы сделать ячейку-markdown: надо опять кликнуть по ней и нажать `m` или опять посмотреть наверх и выбрать markdown\n",
    "![markdown](images/markdown_howto.png)"
   ]
  },
  {
   "cell_type": "markdown",
   "metadata": {},
   "source": [
    "После этого, можно просто открыть [шпаргалку по markdown](https://github.com/adam-p/markdown-here/wiki/Markdown-Cheatsheet) и писать все красивенько"
   ]
  },
  {
   "cell_type": "markdown",
   "metadata": {},
   "source": [
    "### Формулы\n",
    "\n",
    "Чтобы написать формулу в jupyter notebook надо обернуть выражение на `latex` в `$`\n",
    "\n",
    "Тогда выражение вида `$\\underset{x \\rightarrow 0}{lim} \\frac{sin x}{x} = 1$` будет выглядеть следующим образом: $\\underset{x \\rightarrow 0}{lim} \\frac{sin x}{x} = 1$\n",
    "\n",
    "Если есть желание сделать формулу по-центру, то достаточно обернуть ее в двойные знаки доллара:\n",
    "`$$\\underset{x \\rightarrow 0}{lim} \\frac{sin x}{x} = 1$$`\n",
    "\n",
    "$$\\underset{x \\rightarrow 0}{lim} \\frac{sin x}{x} = 1$$"
   ]
  },
  {
   "cell_type": "markdown",
   "metadata": {},
   "source": [
    "## Пихтон"
   ]
  },
  {
   "cell_type": "markdown",
   "metadata": {},
   "source": [
    "### Как обычно"
   ]
  },
  {
   "cell_type": "code",
   "execution_count": 6,
   "metadata": {},
   "outputs": [
    {
     "name": "stdout",
     "output_type": "stream",
     "text": [
      "Hello world!\n"
     ]
    }
   ],
   "source": [
    "print('Hello world!')"
   ]
  },
  {
   "cell_type": "markdown",
   "metadata": {},
   "source": [
    "### Основные типы данных"
   ]
  },
  {
   "cell_type": "markdown",
   "metadata": {},
   "source": [
    "### Создание переменных"
   ]
  },
  {
   "cell_type": "code",
   "execution_count": 10,
   "metadata": {},
   "outputs": [
    {
     "name": "stdout",
     "output_type": "stream",
     "text": [
      "3 <class 'int'>\n",
      "2.71 <class 'float'>\n",
      "Hello there! <class 'str'>\n",
      "General Kenobi! <class 'str'>\n"
     ]
    }
   ],
   "source": [
    "# Это комментарий, этот кусок кода не будет выполняться программой\n",
    "# Это переменная на python\n",
    "a = 3 # Целочисленная переменная\n",
    "print(a, type(a))\n",
    "e = 2.71 # Float\n",
    "print(e, type(e))\n",
    "b = 'Hello there!' # Строка 1\n",
    "print(b, type(b))\n",
    "d = \"General Kenobi!\" # Строка 2 \n",
    "print(d, type(d))"
   ]
  },
  {
   "cell_type": "code",
   "execution_count": 4,
   "metadata": {},
   "outputs": [],
   "source": [
    "# Используя разные кавычки можно оборачивать кавычки внутри строки\n",
    "w = \"Wow I 'did not' expect that\"\n",
    "w = 'Wow I \"did not\" expect that'"
   ]
  },
  {
   "cell_type": "code",
   "execution_count": 5,
   "metadata": {},
   "outputs": [
    {
     "ename": "SyntaxError",
     "evalue": "invalid syntax (<ipython-input-5-6d4a15363075>, line 2)",
     "output_type": "error",
     "traceback": [
      "\u001b[0;36m  File \u001b[0;32m\"<ipython-input-5-6d4a15363075>\"\u001b[0;36m, line \u001b[0;32m2\u001b[0m\n\u001b[0;31m    w = \"Wow I \"did not\" expect that\"\u001b[0m\n\u001b[0m                  ^\u001b[0m\n\u001b[0;31mSyntaxError\u001b[0m\u001b[0;31m:\u001b[0m invalid syntax\n"
     ]
    }
   ],
   "source": [
    "# А такое уже не пройдет\n",
    "w = \"Wow I \"did not\" expect that\""
   ]
  },
  {
   "cell_type": "markdown",
   "metadata": {},
   "source": [
    "#### Note по типизации (можно пропустить)\n",
    "\n",
    "Python является динамически типизированным языком. Это значит, что переменная хранит лишь ссылку на объект без привязки к типу. Это значит, что допустимо перезаписывать что угодно в переменную: "
   ]
  },
  {
   "cell_type": "code",
   "execution_count": 11,
   "metadata": {},
   "outputs": [
    {
     "name": "stdout",
     "output_type": "stream",
     "text": [
      "3 <class 'int'>\n",
      "heck <class 'str'>\n"
     ]
    }
   ],
   "source": [
    "a = 3\n",
    "print(a, type(a))\n",
    "a = 'heck'\n",
    "print(a, type(a))"
   ]
  },
  {
   "cell_type": "markdown",
   "metadata": {},
   "source": [
    "Есть такая штука, как `type hints`. Они появились в python 3.6. Но все, что они делают -- это дают способ договориться насчет типов переменных, но никаких ошибок не будет, если указать тип, а потом переписать туда что-то другого типа. "
   ]
  },
  {
   "cell_type": "code",
   "execution_count": 13,
   "metadata": {},
   "outputs": [
    {
     "name": "stdout",
     "output_type": "stream",
     "text": [
      "3 <class 'int'>\n",
      "line <class 'str'>\n"
     ]
    }
   ],
   "source": [
    "q: int = 3\n",
    "print(q, type(q))\n",
    "q = 'line'\n",
    "print(q, type(q))"
   ]
  },
  {
   "cell_type": "markdown",
   "metadata": {},
   "source": [
    "Может показаться, что это бесполезный функционал, однако, по мере того, как программа разрастается, становится сложно уследить, что в какой переменной хранится. Плюс современные текстовые редакторы дают подсказки и предупреждения, если дать им возможность.\n",
    "\n",
    "Больше по [type hints](https://docs.python.org/3/library/typing.html)"
   ]
  },
  {
   "cell_type": "markdown",
   "metadata": {},
   "source": [
    "### Подсказки по методам"
   ]
  },
  {
   "cell_type": "markdown",
   "metadata": {},
   "source": [
    "В jupyter notebook просто вывести подсказки об интересующем\n",
    "\n",
    "Надо просто набрать `function_or_method?`, т.е. добавить вопросительный знак в конце интересующего нечто."
   ]
  },
  {
   "cell_type": "code",
   "execution_count": 5,
   "metadata": {},
   "outputs": [],
   "source": [
    "print?"
   ]
  },
  {
   "cell_type": "markdown",
   "metadata": {},
   "source": [
    "Одна из многих фичей ноутбуков -- это то, что код можно выполнять непоследовательно, например:"
   ]
  },
  {
   "cell_type": "code",
   "execution_count": 8,
   "metadata": {},
   "outputs": [
    {
     "data": {
      "text/plain": [
       "15"
      ]
     },
     "execution_count": 8,
     "metadata": {},
     "output_type": "execute_result"
    }
   ],
   "source": [
    "# три\n",
    "a + b"
   ]
  },
  {
   "cell_type": "code",
   "execution_count": 6,
   "metadata": {},
   "outputs": [],
   "source": [
    "# раз\n",
    "a = 5"
   ]
  },
  {
   "cell_type": "code",
   "execution_count": 7,
   "metadata": {},
   "outputs": [],
   "source": [
    "# два\n",
    "b = 10"
   ]
  },
  {
   "cell_type": "markdown",
   "metadata": {},
   "source": [
    "Как видно, ячейки выполнены в странном порядке. Дело в том, что jupyter хранит практически всё.\n",
    "\n",
    "Можно создать переменную `c` и удалить ячейку с ней, но переменная не пропадет."
   ]
  },
  {
   "cell_type": "code",
   "execution_count": 11,
   "metadata": {},
   "outputs": [
    {
     "data": {
      "text/plain": [
       "50"
      ]
     },
     "execution_count": 11,
     "metadata": {},
     "output_type": "execute_result"
    }
   ],
   "source": [
    "# Ячейка с переменной c удалена, так что ошибка при запуске -- это норма с:\n",
    "c"
   ]
  },
  {
   "cell_type": "markdown",
   "metadata": {},
   "source": [
    "Следует иметь это ввиду и не делать так, поскольку заявленная фича jupyter notebook-ов -- это воспроизводимость исследований. Если поступать так, как описано выше, то воспроизвести результат становится невозможно."
   ]
  },
  {
   "cell_type": "markdown",
   "metadata": {},
   "source": [
    "### Функции"
   ]
  },
  {
   "cell_type": "markdown",
   "metadata": {},
   "source": [
    "_Reading list_\n",
    "1. https://www.tutorialspoint.com/python/python_functions.htm"
   ]
  },
  {
   "cell_type": "markdown",
   "metadata": {},
   "source": [
    "Функции в python объявляются следующим образом:\n",
    "\n",
    "Ключевое слово для начала объявления функции\n",
    "```python \n",
    "def\n",
    "```\n",
    "\n",
    "Название функции\n",
    "```python \n",
    "def function_name\n",
    "```\n",
    "\n",
    "Перечисление аргументов функции\n",
    "\n",
    "Способ 1: Нет аргументов\n",
    "```python \n",
    "def function_name():\n",
    "#     Тело функции\n",
    "```\n",
    "\n",
    "Способ 2: 1 аргумент\n",
    "```python \n",
    "def function_name(fst):\n",
    "#     Тело функции\n",
    "```\n",
    "\n",
    "_Optional_ можно добавить тип того, что передаем на вход\n",
    "```python \n",
    "def function_name(fst: float):\n",
    "#     Тело функции\n",
    "```\n",
    "\n",
    "_Optional_ А также то, что отдаем на выход\n",
    "```python \n",
    "def function_name(fst: float) -> int:\n",
    "#     Тело функции\n",
    "```\n",
    "\n",
    "Два аргумента\n",
    "```python \n",
    "def function_name(fst, snd):\n",
    "#     Тело функции\n",
    "```\n",
    "\n",
    "Функция, которая ничего не возвращает\n",
    "```python \n",
    "def function_name(fst, snd):\n",
    "    fst + snd\n",
    "```\n",
    "\n",
    "Функция, которая возвращает сумму `fst` и `snd`\n",
    "```python \n",
    "def function_name(fst, snd):\n",
    "    return fst + snd\n",
    "```\n",
    "\n",
    "Функция, которая создает локальные переменные `fst1` и `snd1`, которые копии `fst` и `snd` и возвращает их произведение\n",
    "```python \n",
    "def function_name(fst, snd):\n",
    "    fst1 = fst\n",
    "    snd2 = snd\n",
    "    return fst1 * snd2\n",
    "```"
   ]
  },
  {
   "cell_type": "code",
   "execution_count": 16,
   "metadata": {},
   "outputs": [],
   "source": [
    "def my_func(a, b, c):\n",
    "    d = (a + b) * c\n",
    "    return d"
   ]
  },
  {
   "cell_type": "code",
   "execution_count": 19,
   "metadata": {},
   "outputs": [
    {
     "name": "stdout",
     "output_type": "stream",
     "text": [
      "9\n",
      "18\n",
      "24\n"
     ]
    }
   ],
   "source": [
    "print(my_func(1, 2, 3))\n",
    "print(my_func(3, 3, 3))\n",
    "print(my_func(6, 2, 3))"
   ]
  },
  {
   "cell_type": "code",
   "execution_count": 20,
   "metadata": {},
   "outputs": [
    {
     "name": "stdout",
     "output_type": "stream",
     "text": [
      "Oh no Oh no Oh no \n"
     ]
    }
   ],
   "source": [
    "# А что будет в таком случае?\n",
    "print(my_func('Oh ', 'no ', 3))"
   ]
  }
 ],
 "metadata": {
  "kernelspec": {
   "display_name": "Python 3",
   "language": "python",
   "name": "python3"
  },
  "language_info": {
   "codemirror_mode": {
    "name": "ipython",
    "version": 3
   },
   "file_extension": ".py",
   "mimetype": "text/x-python",
   "name": "python",
   "nbconvert_exporter": "python",
   "pygments_lexer": "ipython3",
   "version": "3.7.0"
  }
 },
 "nbformat": 4,
 "nbformat_minor": 2
}
